{
 "cells": [
  {
   "cell_type": "markdown",
   "metadata": {},
   "source": [
    "# Access to Cooling in NCR\n",
    "\n",
    "This notebook explores the census dataset to understand access to cooling in different provinces of NCR\n",
    "\n",
    "## Data\n",
    "\n",
    "The data for this was obtained from the census dataset provided by the Filipino govt. The locations of the latest barangays are taken from an open repository on [GitHub](https://github.com/altcoder/philippines-psgc-shapefiles?tab=readme-ov-file). \n",
    "\n",
    "## Description of the Census Data\n",
    "There are 17 provinces, 30 municipalities and 1299 barangays in the NCR region. There are 13.4 million responses in the NCR file of the Census which is roughly the population of the region. In the Form 3 responses, which captures 10% of the representative population, there are 2.5 million responses. The access to cooling data is obatined from the representative sample. "
   ]
  },
  {
   "cell_type": "code",
   "execution_count": 4,
   "metadata": {
    "tags": [
     "remove-cell"
    ]
   },
   "outputs": [],
   "source": [
    "import pandas as pd\n",
    "import pyreadstat\n",
    "from matplotlib import pyplot as plt\n",
    "import geopandas"
   ]
  },
  {
   "cell_type": "markdown",
   "metadata": {
    "tags": [
     "remove-cell"
    ]
   },
   "source": [
    "Reading shapefiles of Manila"
   ]
  },
  {
   "cell_type": "code",
   "execution_count": 5,
   "metadata": {
    "tags": [
     "remove-cell"
    ]
   },
   "outputs": [],
   "source": [
    "PHILIPPINES  = geopandas.read_file('../../data/shapefiles/philippines/phl_adminboundaries_candidate_exclude_adm3/phl_admbnda_adm2_psa_namria_20200529.shp')\n",
    "MANILA = PHILIPPINES[PHILIPPINES['ADM2_EN'].isin(['NCR, City of Manila, First District', 'NCR, Second District', 'NCR, Third District', 'NCR, Fourth District'])]\n",
    "#PHILIPPINES_ADM3 = geopandas.read_file('../../data/shapefiles/philippines/phl_adminboundaries_candidate_adm3/phl_admbnda_adm3_psa_namria_20200529.shp')"
   ]
  },
  {
   "cell_type": "code",
   "execution_count": 154,
   "metadata": {
    "tags": [
     "remove-cell"
    ]
   },
   "outputs": [],
   "source": [
    "PHILIPPINES_BARANGAY = geopandas.read_file('../../data/shapefiles/philippines/phl_adm4_barangay/PH_Adm4_BgySubMuns.shp.shp')\n",
    "PHILIPPINES_ADM4 = geopandas.read_file('../../data/shapefiles/philippines/phl_adminboundaries_candidate_exclude_adm3/phl_admbndl_admALL_psa_namria_itos_20200529.shp')\n",
    "MANILA_BARANGAY = PHILIPPINES_BARANGAY.to_crs('EPSG:4326').sjoin(MANILA)"
   ]
  },
  {
   "cell_type": "code",
   "execution_count": 6,
   "metadata": {
    "tags": [
     "remove-cell"
    ]
   },
   "outputs": [],
   "source": [
    "PHILIPPINES_MUNICIPALITY = geopandas.read_file('../../data/shapefiles/philippines/phl_adm3_municipality/PH_Adm3_MuniCities.shp.shp')\n",
    "MANILA_MUNICIPALITY = PHILIPPINES_MUNICIPALITY.to_crs('EPSG:4326').sjoin(MANILA)"
   ]
  },
  {
   "cell_type": "code",
   "execution_count": 31,
   "metadata": {
    "tags": [
     "remove-cell"
    ]
   },
   "outputs": [
    {
     "name": "stderr",
     "output_type": "stream",
     "text": [
      "C:\\Users\\sahit\\AppData\\Local\\Temp\\ipykernel_3860\\1089649819.py:1: UserWarning: Column names longer than 10 characters will be truncated when saved to ESRI Shapefile.\n",
      "  MANILA_BARANGAY.to_file('../../data/shapefiles/philippines/manila_barangay.shp', format = 'ESRI Shapefile')\n"
     ]
    }
   ],
   "source": [
    "MANILA_BARANGAY.to_file('../../data/shapefiles/philippines/manila_barangay.shp', format = 'ESRI Shapefile')"
   ]
  },
  {
   "cell_type": "code",
   "execution_count": 7,
   "metadata": {
    "tags": [
     "remove-cell"
    ]
   },
   "outputs": [],
   "source": [
    "form3 , meta = pyreadstat.read_dta('../../data/census/ncr_cph2020_form3.dta')\n",
    "#form2 , meta = pyreadstat.read_dta('../../data/census/ncr_cph2020_form2.dta')"
   ]
  },
  {
   "cell_type": "markdown",
   "metadata": {
    "tags": [
     "remove-cell"
    ]
   },
   "source": [
    "Read Census data"
   ]
  },
  {
   "cell_type": "code",
   "execution_count": 5,
   "metadata": {
    "tags": [
     "remove-cell"
    ]
   },
   "outputs": [],
   "source": [
    "building_type_questions = ['b1', 'b2', 'b3', 'b4', 'b5', 'b6', 'b7', 'b8']\n",
    "education = ['p16']\n",
    "pii = ['reg', 'prv', 'prv_name', 'mun', 'mun_name', 'bgy', 'bgy_name',\n",
    "       'psgc_prv', 'psgc_mun', 'psgc_bgy', 'urb', 'husn', 'hsn']\n",
    "\n",
    "occupation = ['p21']"
   ]
  },
  {
   "cell_type": "code",
   "execution_count": 167,
   "metadata": {
    "tags": [
     "remove-cell"
    ]
   },
   "outputs": [],
   "source": [
    "MANILA_BARANGAY.rename(columns = {'adm4_psgc':'psgc_bgy', 'adm3_psgc': 'psgc_mun'}, inplace=True)"
   ]
  },
  {
   "cell_type": "code",
   "execution_count": 8,
   "metadata": {
    "tags": [
     "remove-cell"
    ]
   },
   "outputs": [],
   "source": [
    "PHILIPPINES_MUNICIPALITY.rename(columns = {'adm4_psgc':'psgc_bgy', 'adm3_psgc': 'psgc_mun'}, inplace=True)"
   ]
  },
  {
   "cell_type": "code",
   "execution_count": 38,
   "metadata": {
    "tags": [
     "remove-cell"
    ]
   },
   "outputs": [],
   "source": [
    "air_conditioning = form3.groupby(['prv_name', 'h15e']).size().unstack(fill_value=0).reset_index()\n",
    "fan_cooling_equipment = form3.groupby(['prv_name', 'h15f']).size().unstack(fill_value=0).reset_index()"
   ]
  },
  {
   "cell_type": "code",
   "execution_count": 10,
   "metadata": {
    "tags": [
     "remove-cell"
    ]
   },
   "outputs": [],
   "source": [
    "import numpy as np\n",
    "air_conditioning['psgc_mun'] = air_conditioning['psgc_mun'].astype(np.int64)\n",
    "fan_cooling_equipment['psgc_mun'] = fan_cooling_equipment['psgc_mun'].astype(np.int64)"
   ]
  },
  {
   "cell_type": "code",
   "execution_count": 39,
   "metadata": {
    "tags": [
     "remove-cell"
    ]
   },
   "outputs": [],
   "source": [
    "air_conditioning.rename(columns = {1:'AC_Access', 2:'No_AC_Access', 9:'Unknown_AC'}, inplace=True)\n",
    "fan_cooling_equipment.rename(columns = {1:'Cooling_Equipment_Access', 2:'No_Cooling_Equipment_Access', 9:'Unknown_CE'}, inplace=True)"
   ]
  },
  {
   "cell_type": "code",
   "execution_count": 184,
   "metadata": {
    "tags": [
     "remove-cell"
    ]
   },
   "outputs": [],
   "source": [
    "form3['psgc_mun']=form3['psgc_mun'].astype(np.int64)"
   ]
  },
  {
   "cell_type": "code",
   "execution_count": 89,
   "metadata": {
    "tags": [
     "remove-cell"
    ]
   },
   "outputs": [],
   "source": [
    "MANILA_MUNICIPALITY.to_file('../../data/shapefiles/philippines/manila_municipality.shp', file_format = 'ESRI Shapefile')"
   ]
  },
  {
   "cell_type": "code",
   "execution_count": 49,
   "metadata": {
    "tags": [
     "remove-cell"
    ]
   },
   "outputs": [],
   "source": [
    "df = air_conditioning.merge(fan_cooling_equipment)#.to_csv('../../data/census/access_to_cooling.csv')"
   ]
  },
  {
   "cell_type": "code",
   "execution_count": 42,
   "metadata": {
    "tags": [
     "remove-cell"
    ]
   },
   "outputs": [],
   "source": [
    "air_conditioning['total_AC'] = air_conditioning['AC_Access'] + air_conditioning['No_AC_Access'] + air_conditioning['Unknown_AC']\n",
    "air_conditioning['% without AC Access'] = 100*air_conditioning['No_AC_Access']/air_conditioning['total_AC']\n",
    "air_conditioning['% with AC Access'] = 100*air_conditioning['AC_Access']/air_conditioning['total_AC']"
   ]
  },
  {
   "cell_type": "code",
   "execution_count": 48,
   "metadata": {
    "tags": [
     "remove-cell"
    ]
   },
   "outputs": [],
   "source": [
    "fan_cooling_equipment['total_CE'] = fan_cooling_equipment['Cooling_Equipment_Access'] + fan_cooling_equipment['No_Cooling_Equipment_Access'] + fan_cooling_equipment['Unknown_CE']\n",
    "fan_cooling_equipment['% without CE Access'] = 100*fan_cooling_equipment['No_Cooling_Equipment_Access']/fan_cooling_equipment['total_CE']\n",
    "fan_cooling_equipment['% with CE Access'] = 100*fan_cooling_equipment['Cooling_Equipment_Access']/fan_cooling_equipment['total_CE']"
   ]
  },
  {
   "cell_type": "code",
   "execution_count": 72,
   "metadata": {
    "tags": [
     "remove-cell"
    ]
   },
   "outputs": [],
   "source": [
    "df['prv_name']= df['prv_name'].str.title()"
   ]
  },
  {
   "cell_type": "code",
   "execution_count": 91,
   "metadata": {
    "tags": [
     "remove-input"
    ]
   },
   "outputs": [
    {
     "data": {
      "text/html": [
       "<div class=\"bk-root\">\n",
       "        <a href=\"https://bokeh.org\" target=\"_blank\" class=\"bk-logo bk-logo-small bk-logo-notebook\"></a>\n",
       "        <span id=\"21211\">Loading BokehJS ...</span>\n",
       "    </div>\n"
      ]
     },
     "metadata": {},
     "output_type": "display_data"
    },
    {
     "data": {
      "application/javascript": "(function(root) {\n  function now() {\n    return new Date();\n  }\n\n  const force = true;\n\n  if (typeof root._bokeh_onload_callbacks === \"undefined\" || force === true) {\n    root._bokeh_onload_callbacks = [];\n    root._bokeh_is_loading = undefined;\n  }\n\nconst JS_MIME_TYPE = 'application/javascript';\n  const HTML_MIME_TYPE = 'text/html';\n  const EXEC_MIME_TYPE = 'application/vnd.bokehjs_exec.v0+json';\n  const CLASS_NAME = 'output_bokeh rendered_html';\n\n  /**\n   * Render data to the DOM node\n   */\n  function render(props, node) {\n    const script = document.createElement(\"script\");\n    node.appendChild(script);\n  }\n\n  /**\n   * Handle when an output is cleared or removed\n   */\n  function handleClearOutput(event, handle) {\n    const cell = handle.cell;\n\n    const id = cell.output_area._bokeh_element_id;\n    const server_id = cell.output_area._bokeh_server_id;\n    // Clean up Bokeh references\n    if (id != null && id in Bokeh.index) {\n      Bokeh.index[id].model.document.clear();\n      delete Bokeh.index[id];\n    }\n\n    if (server_id !== undefined) {\n      // Clean up Bokeh references\n      const cmd_clean = \"from bokeh.io.state import curstate; print(curstate().uuid_to_server['\" + server_id + \"'].get_sessions()[0].document.roots[0]._id)\";\n      cell.notebook.kernel.execute(cmd_clean, {\n        iopub: {\n          output: function(msg) {\n            const id = msg.content.text.trim();\n            if (id in Bokeh.index) {\n              Bokeh.index[id].model.document.clear();\n              delete Bokeh.index[id];\n            }\n          }\n        }\n      });\n      // Destroy server and session\n      const cmd_destroy = \"import bokeh.io.notebook as ion; ion.destroy_server('\" + server_id + \"')\";\n      cell.notebook.kernel.execute(cmd_destroy);\n    }\n  }\n\n  /**\n   * Handle when a new output is added\n   */\n  function handleAddOutput(event, handle) {\n    const output_area = handle.output_area;\n    const output = handle.output;\n\n    // limit handleAddOutput to display_data with EXEC_MIME_TYPE content only\n    if ((output.output_type != \"display_data\") || (!Object.prototype.hasOwnProperty.call(output.data, EXEC_MIME_TYPE))) {\n      return\n    }\n\n    const toinsert = output_area.element.find(\".\" + CLASS_NAME.split(' ')[0]);\n\n    if (output.metadata[EXEC_MIME_TYPE][\"id\"] !== undefined) {\n      toinsert[toinsert.length - 1].firstChild.textContent = output.data[JS_MIME_TYPE];\n      // store reference to embed id on output_area\n      output_area._bokeh_element_id = output.metadata[EXEC_MIME_TYPE][\"id\"];\n    }\n    if (output.metadata[EXEC_MIME_TYPE][\"server_id\"] !== undefined) {\n      const bk_div = document.createElement(\"div\");\n      bk_div.innerHTML = output.data[HTML_MIME_TYPE];\n      const script_attrs = bk_div.children[0].attributes;\n      for (let i = 0; i < script_attrs.length; i++) {\n        toinsert[toinsert.length - 1].firstChild.setAttribute(script_attrs[i].name, script_attrs[i].value);\n        toinsert[toinsert.length - 1].firstChild.textContent = bk_div.children[0].textContent\n      }\n      // store reference to server id on output_area\n      output_area._bokeh_server_id = output.metadata[EXEC_MIME_TYPE][\"server_id\"];\n    }\n  }\n\n  function register_renderer(events, OutputArea) {\n\n    function append_mime(data, metadata, element) {\n      // create a DOM node to render to\n      const toinsert = this.create_output_subarea(\n        metadata,\n        CLASS_NAME,\n        EXEC_MIME_TYPE\n      );\n      this.keyboard_manager.register_events(toinsert);\n      // Render to node\n      const props = {data: data, metadata: metadata[EXEC_MIME_TYPE]};\n      render(props, toinsert[toinsert.length - 1]);\n      element.append(toinsert);\n      return toinsert\n    }\n\n    /* Handle when an output is cleared or removed */\n    events.on('clear_output.CodeCell', handleClearOutput);\n    events.on('delete.Cell', handleClearOutput);\n\n    /* Handle when a new output is added */\n    events.on('output_added.OutputArea', handleAddOutput);\n\n    /**\n     * Register the mime type and append_mime function with output_area\n     */\n    OutputArea.prototype.register_mime_type(EXEC_MIME_TYPE, append_mime, {\n      /* Is output safe? */\n      safe: true,\n      /* Index of renderer in `output_area.display_order` */\n      index: 0\n    });\n  }\n\n  // register the mime type if in Jupyter Notebook environment and previously unregistered\n  if (root.Jupyter !== undefined) {\n    const events = require('base/js/events');\n    const OutputArea = require('notebook/js/outputarea').OutputArea;\n\n    if (OutputArea.prototype.mime_types().indexOf(EXEC_MIME_TYPE) == -1) {\n      register_renderer(events, OutputArea);\n    }\n  }\n  if (typeof (root._bokeh_timeout) === \"undefined\" || force === true) {\n    root._bokeh_timeout = Date.now() + 5000;\n    root._bokeh_failed_load = false;\n  }\n\n  const NB_LOAD_WARNING = {'data': {'text/html':\n     \"<div style='background-color: #fdd'>\\n\"+\n     \"<p>\\n\"+\n     \"BokehJS does not appear to have successfully loaded. If loading BokehJS from CDN, this \\n\"+\n     \"may be due to a slow or bad network connection. Possible fixes:\\n\"+\n     \"</p>\\n\"+\n     \"<ul>\\n\"+\n     \"<li>re-rerun `output_notebook()` to attempt to load from CDN again, or</li>\\n\"+\n     \"<li>use INLINE resources instead, as so:</li>\\n\"+\n     \"</ul>\\n\"+\n     \"<code>\\n\"+\n     \"from bokeh.resources import INLINE\\n\"+\n     \"output_notebook(resources=INLINE)\\n\"+\n     \"</code>\\n\"+\n     \"</div>\"}};\n\n  function display_loaded() {\n    const el = document.getElementById(\"21211\");\n    if (el != null) {\n      el.textContent = \"BokehJS is loading...\";\n    }\n    if (root.Bokeh !== undefined) {\n      if (el != null) {\n        el.textContent = \"BokehJS \" + root.Bokeh.version + \" successfully loaded.\";\n      }\n    } else if (Date.now() < root._bokeh_timeout) {\n      setTimeout(display_loaded, 100)\n    }\n  }\n\n  function run_callbacks() {\n    try {\n      root._bokeh_onload_callbacks.forEach(function(callback) {\n        if (callback != null)\n          callback();\n      });\n    } finally {\n      delete root._bokeh_onload_callbacks\n    }\n    console.debug(\"Bokeh: all callbacks have finished\");\n  }\n\n  function load_libs(css_urls, js_urls, callback) {\n    if (css_urls == null) css_urls = [];\n    if (js_urls == null) js_urls = [];\n\n    root._bokeh_onload_callbacks.push(callback);\n    if (root._bokeh_is_loading > 0) {\n      console.debug(\"Bokeh: BokehJS is being loaded, scheduling callback at\", now());\n      return null;\n    }\n    if (js_urls == null || js_urls.length === 0) {\n      run_callbacks();\n      return null;\n    }\n    console.debug(\"Bokeh: BokehJS not loaded, scheduling load and callback at\", now());\n    root._bokeh_is_loading = css_urls.length + js_urls.length;\n\n    function on_load() {\n      root._bokeh_is_loading--;\n      if (root._bokeh_is_loading === 0) {\n        console.debug(\"Bokeh: all BokehJS libraries/stylesheets loaded\");\n        run_callbacks()\n      }\n    }\n\n    function on_error(url) {\n      console.error(\"failed to load \" + url);\n    }\n\n    for (let i = 0; i < css_urls.length; i++) {\n      const url = css_urls[i];\n      const element = document.createElement(\"link\");\n      element.onload = on_load;\n      element.onerror = on_error.bind(null, url);\n      element.rel = \"stylesheet\";\n      element.type = \"text/css\";\n      element.href = url;\n      console.debug(\"Bokeh: injecting link tag for BokehJS stylesheet: \", url);\n      document.body.appendChild(element);\n    }\n\n    for (let i = 0; i < js_urls.length; i++) {\n      const url = js_urls[i];\n      const element = document.createElement('script');\n      element.onload = on_load;\n      element.onerror = on_error.bind(null, url);\n      element.async = false;\n      element.src = url;\n      console.debug(\"Bokeh: injecting script tag for BokehJS library: \", url);\n      document.head.appendChild(element);\n    }\n  };\n\n  function inject_raw_css(css) {\n    const element = document.createElement(\"style\");\n    element.appendChild(document.createTextNode(css));\n    document.body.appendChild(element);\n  }\n\n  const js_urls = [\"https://cdn.bokeh.org/bokeh/release/bokeh-2.4.3.min.js\", \"https://cdn.bokeh.org/bokeh/release/bokeh-gl-2.4.3.min.js\", \"https://cdn.bokeh.org/bokeh/release/bokeh-widgets-2.4.3.min.js\", \"https://cdn.bokeh.org/bokeh/release/bokeh-tables-2.4.3.min.js\", \"https://cdn.bokeh.org/bokeh/release/bokeh-mathjax-2.4.3.min.js\"];\n  const css_urls = [];\n\n  const inline_js = [    function(Bokeh) {\n      Bokeh.set_log_level(\"info\");\n    },\nfunction(Bokeh) {\n    }\n  ];\n\n  function run_inline_js() {\n    if (root.Bokeh !== undefined || force === true) {\n          for (let i = 0; i < inline_js.length; i++) {\n      inline_js[i].call(root, root.Bokeh);\n    }\nif (force === true) {\n        display_loaded();\n      }} else if (Date.now() < root._bokeh_timeout) {\n      setTimeout(run_inline_js, 100);\n    } else if (!root._bokeh_failed_load) {\n      console.log(\"Bokeh: BokehJS failed to load within specified timeout.\");\n      root._bokeh_failed_load = true;\n    } else if (force !== true) {\n      const cell = $(document.getElementById(\"21211\")).parents('.cell').data().cell;\n      cell.output_area.append_execute_result(NB_LOAD_WARNING)\n    }\n  }\n\n  if (root._bokeh_is_loading === 0) {\n    console.debug(\"Bokeh: BokehJS loaded, going straight to plotting\");\n    run_inline_js();\n  } else {\n    load_libs(css_urls, js_urls, function() {\n      console.debug(\"Bokeh: BokehJS plotting callback run at\", now());\n      run_inline_js();\n    });\n  }\n}(window));",
      "application/vnd.bokehjs_load.v0+json": ""
     },
     "metadata": {},
     "output_type": "display_data"
    },
    {
     "data": {
      "text/html": [
       "\n",
       "  <div class=\"bk-root\" id=\"c1b49ef1-4206-458d-9d75-5f49d00f8b81\" data-root-id=\"21212\"></div>\n"
      ]
     },
     "metadata": {},
     "output_type": "display_data"
    },
    {
     "data": {
      "application/javascript": "(function(root) {\n  function embed_document(root) {\n  const docs_json = {\"a685e4ac-7fc7-45fa-83ce-f7aecd09dd05\":{\"defs\":[],\"roots\":{\"references\":[{\"attributes\":{\"below\":[{\"id\":\"21223\"}],\"center\":[{\"id\":\"21225\"},{\"id\":\"21229\"}],\"height\":500,\"left\":[{\"id\":\"21226\"}],\"renderers\":[{\"id\":\"21236\"}],\"title\":{\"id\":\"21213\"},\"toolbar\":{\"id\":\"21230\"},\"toolbar_location\":\"above\",\"width\":1000,\"x_range\":{\"id\":\"21215\"},\"x_scale\":{\"id\":\"21219\"},\"y_range\":{\"id\":\"21217\"},\"y_scale\":{\"id\":\"21221\"}},\"id\":\"21212\",\"subtype\":\"Figure\",\"type\":\"Plot\"},{\"attributes\":{\"data\":{\"% with AC Access\":{\"__ndarray__\":\"kQ7xKgvtNUAivECrpfpCQNajiBkWgURABu5MSCe0NUB7iHXIfFNDQDtbG+5Uf0BATdRxl+TVQkC4m4Z9NJY+QBAEQRAEQTJAa8FN4CzkQkA10Wns6bdAQPL6tWhGyUhAMtRFEXiqO0BzI6MNClY3QE9b5t08f0FAoVq1T0+7QUBrJS2o9bE+QA==\",\"dtype\":\"float64\",\"order\":\"little\",\"shape\":[17]},\"% with CE Access\":{\"__ndarray__\":\"QfMtHB7JV0C2ADIymTFYQCHTpfH4rlVA5F2FEC7dV0DnwURpR9ZXQJORFiNVsVdAdEf2M1UTWEC4uJ2mRAhYQFOxcSALtVdADzSB9akWWECxIJ+j99ZXQEVaTvuoBFhAHunayWGMV0D+sfe7bNVXQLRmALc0u1dAaMkBGl4EWECwYIjG9U1XQA==\",\"dtype\":\"float64\",\"order\":\"little\",\"shape\":[17]},\"% without AC Access\":{\"__ndarray__\":\"jU1aODSCU0AmDuE/UwBPQBqh6uI8uklAycCdCemEU0BmXIB9OV5OQPm4nYa0qFBAyTKCCaYYT0DdT+MF7hhRQFjq+R1/aVRAfAHqqw8YT0BIYJDAw5xQQBNcDR+iw0hAEae/p6wAUkCc32pJUClTQGYgDW5WFlBAgWvHHVwgUEBN7DKKO9JQQA==\",\"dtype\":\"float64\",\"order\":\"little\",\"shape\":[17]},\"% without CE Access\":{\"__ndarray__\":\"VXGMT11IE0DNjdxraHwJQG/1PMkI6xZAWfpKNTNXEUBWMAknQiIQQGpL/2NdchNA0IJ3kAN+DEBdwufUz8YGQIWghxlQSxRAn6xVE4ruDEA2CDbL7B4SQLgnahJpOQhAtgemoYnrFUCqZ78NYZYSQKB1/l8CrBFAJO0JdLU0D0AUyrXcBgwTQA==\",\"dtype\":\"float64\",\"order\":\"little\",\"shape\":[17]},\"AC_Access\":[71959,45420,36288,16311,28375,115910,34524,31252,8786,50116,47924,11247,46941,33004,27913,4573,182898],\"Cooling_Equipment_Access\":[312249,115799,76750,71738,69996,332928,88257,98220,45643,127807,136675,21797,159819,134831,75717,12388,555443],\"No_AC_Access\":[256102,74191,45532,58677,44587,234091,56997,69877,39299,82488,95240,11237,122181,108399,51328,8318,400919],\"No_Cooling_Equipment_Access\":[15821,3812,5070,3258,2961,17079,3264,2909,2442,4797,6493,687,9298,6572,3524,503,28373],\"Unknown_AC\":[130,47,6669,165,449,1297,125,1046,47,39,163,204,549,26,524,4,12036],\"Unknown_CE\":[121,47,6669,157,454,1291,125,1046,47,39,159,204,554,26,524,4,12037],\"index\":[0,1,2,3,4,5,6,7,8,9,10,11,12,13,14,15,16],\"prv_name\":[\"City Of Caloocan\",\"City Of Las Pi\\u00f1as\",\"City Of Makati\",\"City Of Malabon\",\"City Of Mandaluyong\",\"City Of Manila\",\"City Of Marikina\",\"City Of Muntinlupa\",\"City Of Navotas\",\"City Of Para\\u00f1aque\",\"City Of Pasig\",\"City Of San Juan\",\"City Of Taguig\",\"City Of Valenzuela\",\"Pasay City\",\"Pateros\",\"Quezon City\"],\"total_AC\":[328191,119658,88489,75153,73411,351298,91646,102175,48132,132643,143327,22688,169671,141429,79765,12895,595853],\"total_CE\":[328191,119658,88489,75153,73411,351298,91646,102175,48132,132643,143327,22688,169671,141429,79765,12895,595853]},\"selected\":{\"id\":\"21670\"},\"selection_policy\":{\"id\":\"21669\"}},\"id\":\"21231\",\"type\":\"ColumnDataSource\"},{\"attributes\":{\"axis\":{\"id\":\"21223\"},\"coordinates\":null,\"group\":null,\"ticker\":null},\"id\":\"21225\",\"type\":\"Grid\"},{\"attributes\":{},\"id\":\"21227\",\"type\":\"BasicTicker\"},{\"attributes\":{},\"id\":\"21224\",\"type\":\"CategoricalTicker\"},{\"attributes\":{\"coordinates\":null,\"group\":null,\"text\":\"% Respondents with Access to Air Conditioning by Province\",\"text_font_size\":\"18pt\"},\"id\":\"21213\",\"type\":\"Title\"},{\"attributes\":{},\"id\":\"21664\",\"type\":\"BasicTickFormatter\"},{\"attributes\":{\"coordinates\":null,\"data_source\":{\"id\":\"21231\"},\"glyph\":{\"id\":\"21233\"},\"group\":null,\"hover_glyph\":null,\"muted_glyph\":{\"id\":\"21235\"},\"nonselection_glyph\":{\"id\":\"21234\"},\"view\":{\"id\":\"21237\"}},\"id\":\"21236\",\"type\":\"GlyphRenderer\"},{\"attributes\":{},\"id\":\"21667\",\"type\":\"CategoricalTickFormatter\"},{\"attributes\":{\"axis\":{\"id\":\"21226\"},\"coordinates\":null,\"dimension\":1,\"group\":null,\"ticker\":null},\"id\":\"21229\",\"type\":\"Grid\"},{\"attributes\":{},\"id\":\"21669\",\"type\":\"UnionRenderers\"},{\"attributes\":{\"factors\":[\"City Of Caloocan\",\"City Of Las Pi\\u00f1as\",\"City Of Makati\",\"City Of Malabon\",\"City Of Mandaluyong\",\"City Of Manila\",\"City Of Marikina\",\"City Of Muntinlupa\",\"City Of Navotas\",\"City Of Para\\u00f1aque\",\"City Of Pasig\",\"City Of San Juan\",\"City Of Taguig\",\"City Of Valenzuela\",\"Pasay City\",\"Pateros\",\"Quezon City\"]},\"id\":\"21215\",\"type\":\"FactorRange\"},{\"attributes\":{\"fill_color\":{\"value\":\"#1f77b4\"},\"line_color\":{\"value\":\"#1f77b4\"},\"top\":{\"field\":\"% with AC Access\"},\"width\":{\"value\":0.5},\"x\":{\"field\":\"prv_name\"}},\"id\":\"21233\",\"type\":\"VBar\"},{\"attributes\":{},\"id\":\"21665\",\"type\":\"AllLabels\"},{\"attributes\":{},\"id\":\"21670\",\"type\":\"Selection\"},{\"attributes\":{\"fill_alpha\":{\"value\":0.2},\"fill_color\":{\"value\":\"#1f77b4\"},\"hatch_alpha\":{\"value\":0.2},\"line_alpha\":{\"value\":0.2},\"line_color\":{\"value\":\"#1f77b4\"},\"top\":{\"field\":\"% with AC Access\"},\"width\":{\"value\":0.5},\"x\":{\"field\":\"prv_name\"}},\"id\":\"21235\",\"type\":\"VBar\"},{\"attributes\":{},\"id\":\"21230\",\"type\":\"Toolbar\"},{\"attributes\":{},\"id\":\"21668\",\"type\":\"AllLabels\"},{\"attributes\":{},\"id\":\"21221\",\"type\":\"LinearScale\"},{\"attributes\":{\"source\":{\"id\":\"21231\"}},\"id\":\"21237\",\"type\":\"CDSView\"},{\"attributes\":{\"axis_label\":\"% Respondents\",\"axis_label_text_font_style\":\"bold\",\"coordinates\":null,\"formatter\":{\"id\":\"21664\"},\"group\":null,\"major_label_policy\":{\"id\":\"21665\"},\"ticker\":{\"id\":\"21227\"}},\"id\":\"21226\",\"type\":\"LinearAxis\"},{\"attributes\":{},\"id\":\"21219\",\"type\":\"CategoricalScale\"},{\"attributes\":{\"end\":100,\"start\":0},\"id\":\"21217\",\"type\":\"DataRange1d\"},{\"attributes\":{\"axis_label\":\"Provinces\",\"axis_label_text_font_style\":\"bold\",\"coordinates\":null,\"formatter\":{\"id\":\"21667\"},\"group\":null,\"major_label_orientation\":45,\"major_label_policy\":{\"id\":\"21668\"},\"major_label_text_font_size\":\"10pt\",\"ticker\":{\"id\":\"21224\"}},\"id\":\"21223\",\"type\":\"CategoricalAxis\"},{\"attributes\":{\"fill_alpha\":{\"value\":0.1},\"fill_color\":{\"value\":\"#1f77b4\"},\"hatch_alpha\":{\"value\":0.1},\"line_alpha\":{\"value\":0.1},\"line_color\":{\"value\":\"#1f77b4\"},\"top\":{\"field\":\"% with AC Access\"},\"width\":{\"value\":0.5},\"x\":{\"field\":\"prv_name\"}},\"id\":\"21234\",\"type\":\"VBar\"}],\"root_ids\":[\"21212\"]},\"title\":\"Bokeh Application\",\"version\":\"2.4.3\"}};\n  const render_items = [{\"docid\":\"a685e4ac-7fc7-45fa-83ce-f7aecd09dd05\",\"root_ids\":[\"21212\"],\"roots\":{\"21212\":\"c1b49ef1-4206-458d-9d75-5f49d00f8b81\"}}];\n  root.Bokeh.embed.embed_items_notebook(docs_json, render_items);\n  }\n  if (root.Bokeh !== undefined) {\n    embed_document(root);\n  } else {\n    let attempts = 0;\n    const timer = setInterval(function(root) {\n      if (root.Bokeh !== undefined) {\n        clearInterval(timer);\n        embed_document(root);\n      } else {\n        attempts++;\n        if (attempts > 100) {\n          clearInterval(timer);\n          console.log(\"Bokeh: ERROR: Unable to run BokehJS code because BokehJS library is missing\");\n        }\n      }\n    }, 10, root)\n  }\n})(window);",
      "application/vnd.bokehjs_exec.v0+json": ""
     },
     "metadata": {
      "application/vnd.bokehjs_exec.v0+json": {
       "id": "21212"
      }
     },
     "output_type": "display_data"
    }
   ],
   "source": [
    "from bokeh.io import  show\n",
    "from bokeh.plotting import figure\n",
    "from bokeh.palettes import Category10\n",
    "from bokeh.transform import factor_cmap\n",
    "from bokeh.plotting import figure,  show, output_notebook\n",
    "import pandas as pd\n",
    "\n",
    "output_notebook()\n",
    "\n",
    "# Define the provinces and stack categories\n",
    "provinces = df['prv_name'].tolist()\n",
    "stack_categories = ['AC_Access', 'No_AC_Access',\n",
    "       'Unknown_AC']\n",
    "\n",
    "# Define the colors for each stack category\n",
    "colors = Category10[len(stack_categories)]\n",
    "\n",
    "# Create a figure\n",
    "p = figure(x_range=provinces, title=\"% Respondents with Access to Air Conditioning by Province\", tools=\"\",  width=1000, height=500, toolbar_location='above')\n",
    "\n",
    "# Stack the bars\n",
    "p.vbar(x='prv_name', top='% with AC Access', width=0.5,  source=df)\n",
    "\n",
    "# Configure legend\n",
    "#p.legend.location = \"top_right\"\n",
    "\n",
    "# Add labels\n",
    "p.xaxis.axis_label = \"Provinces\"\n",
    "p.yaxis.axis_label = \"% Respondents\"\n",
    "\n",
    "p.xaxis.major_label_orientation = 45\n",
    "# Set font style for x-axis labels\n",
    "p.xaxis.major_label_text_font_size = \"10pt\"\n",
    "p.xaxis.axis_label_text_font_style = \"normal\"\n",
    "\n",
    "p.yaxis.axis_label_text_font_style = \"normal\"\n",
    "\n",
    "p.yaxis.axis_label_text_font_style = \"bold\"\n",
    "p.xaxis.axis_label_text_font_style = \"bold\"\n",
    "\n",
    "p.title.text_font_size = \"18pt\"\n",
    "\n",
    "\n",
    "# Set y-axis range from 0 to 100\n",
    "p.y_range.start = 0\n",
    "p.y_range.end = 100\n",
    "\n",
    "# Show the plot\n",
    "show(p)\n"
   ]
  },
  {
   "cell_type": "code",
   "execution_count": 92,
   "metadata": {
    "tags": [
     "remove-input"
    ]
   },
   "outputs": [
    {
     "data": {
      "text/html": [
       "<div class=\"bk-root\">\n",
       "        <a href=\"https://bokeh.org\" target=\"_blank\" class=\"bk-logo bk-logo-small bk-logo-notebook\"></a>\n",
       "        <span id=\"21843\">Loading BokehJS ...</span>\n",
       "    </div>\n"
      ]
     },
     "metadata": {},
     "output_type": "display_data"
    },
    {
     "data": {
      "application/javascript": "(function(root) {\n  function now() {\n    return new Date();\n  }\n\n  const force = true;\n\n  if (typeof root._bokeh_onload_callbacks === \"undefined\" || force === true) {\n    root._bokeh_onload_callbacks = [];\n    root._bokeh_is_loading = undefined;\n  }\n\nconst JS_MIME_TYPE = 'application/javascript';\n  const HTML_MIME_TYPE = 'text/html';\n  const EXEC_MIME_TYPE = 'application/vnd.bokehjs_exec.v0+json';\n  const CLASS_NAME = 'output_bokeh rendered_html';\n\n  /**\n   * Render data to the DOM node\n   */\n  function render(props, node) {\n    const script = document.createElement(\"script\");\n    node.appendChild(script);\n  }\n\n  /**\n   * Handle when an output is cleared or removed\n   */\n  function handleClearOutput(event, handle) {\n    const cell = handle.cell;\n\n    const id = cell.output_area._bokeh_element_id;\n    const server_id = cell.output_area._bokeh_server_id;\n    // Clean up Bokeh references\n    if (id != null && id in Bokeh.index) {\n      Bokeh.index[id].model.document.clear();\n      delete Bokeh.index[id];\n    }\n\n    if (server_id !== undefined) {\n      // Clean up Bokeh references\n      const cmd_clean = \"from bokeh.io.state import curstate; print(curstate().uuid_to_server['\" + server_id + \"'].get_sessions()[0].document.roots[0]._id)\";\n      cell.notebook.kernel.execute(cmd_clean, {\n        iopub: {\n          output: function(msg) {\n            const id = msg.content.text.trim();\n            if (id in Bokeh.index) {\n              Bokeh.index[id].model.document.clear();\n              delete Bokeh.index[id];\n            }\n          }\n        }\n      });\n      // Destroy server and session\n      const cmd_destroy = \"import bokeh.io.notebook as ion; ion.destroy_server('\" + server_id + \"')\";\n      cell.notebook.kernel.execute(cmd_destroy);\n    }\n  }\n\n  /**\n   * Handle when a new output is added\n   */\n  function handleAddOutput(event, handle) {\n    const output_area = handle.output_area;\n    const output = handle.output;\n\n    // limit handleAddOutput to display_data with EXEC_MIME_TYPE content only\n    if ((output.output_type != \"display_data\") || (!Object.prototype.hasOwnProperty.call(output.data, EXEC_MIME_TYPE))) {\n      return\n    }\n\n    const toinsert = output_area.element.find(\".\" + CLASS_NAME.split(' ')[0]);\n\n    if (output.metadata[EXEC_MIME_TYPE][\"id\"] !== undefined) {\n      toinsert[toinsert.length - 1].firstChild.textContent = output.data[JS_MIME_TYPE];\n      // store reference to embed id on output_area\n      output_area._bokeh_element_id = output.metadata[EXEC_MIME_TYPE][\"id\"];\n    }\n    if (output.metadata[EXEC_MIME_TYPE][\"server_id\"] !== undefined) {\n      const bk_div = document.createElement(\"div\");\n      bk_div.innerHTML = output.data[HTML_MIME_TYPE];\n      const script_attrs = bk_div.children[0].attributes;\n      for (let i = 0; i < script_attrs.length; i++) {\n        toinsert[toinsert.length - 1].firstChild.setAttribute(script_attrs[i].name, script_attrs[i].value);\n        toinsert[toinsert.length - 1].firstChild.textContent = bk_div.children[0].textContent\n      }\n      // store reference to server id on output_area\n      output_area._bokeh_server_id = output.metadata[EXEC_MIME_TYPE][\"server_id\"];\n    }\n  }\n\n  function register_renderer(events, OutputArea) {\n\n    function append_mime(data, metadata, element) {\n      // create a DOM node to render to\n      const toinsert = this.create_output_subarea(\n        metadata,\n        CLASS_NAME,\n        EXEC_MIME_TYPE\n      );\n      this.keyboard_manager.register_events(toinsert);\n      // Render to node\n      const props = {data: data, metadata: metadata[EXEC_MIME_TYPE]};\n      render(props, toinsert[toinsert.length - 1]);\n      element.append(toinsert);\n      return toinsert\n    }\n\n    /* Handle when an output is cleared or removed */\n    events.on('clear_output.CodeCell', handleClearOutput);\n    events.on('delete.Cell', handleClearOutput);\n\n    /* Handle when a new output is added */\n    events.on('output_added.OutputArea', handleAddOutput);\n\n    /**\n     * Register the mime type and append_mime function with output_area\n     */\n    OutputArea.prototype.register_mime_type(EXEC_MIME_TYPE, append_mime, {\n      /* Is output safe? */\n      safe: true,\n      /* Index of renderer in `output_area.display_order` */\n      index: 0\n    });\n  }\n\n  // register the mime type if in Jupyter Notebook environment and previously unregistered\n  if (root.Jupyter !== undefined) {\n    const events = require('base/js/events');\n    const OutputArea = require('notebook/js/outputarea').OutputArea;\n\n    if (OutputArea.prototype.mime_types().indexOf(EXEC_MIME_TYPE) == -1) {\n      register_renderer(events, OutputArea);\n    }\n  }\n  if (typeof (root._bokeh_timeout) === \"undefined\" || force === true) {\n    root._bokeh_timeout = Date.now() + 5000;\n    root._bokeh_failed_load = false;\n  }\n\n  const NB_LOAD_WARNING = {'data': {'text/html':\n     \"<div style='background-color: #fdd'>\\n\"+\n     \"<p>\\n\"+\n     \"BokehJS does not appear to have successfully loaded. If loading BokehJS from CDN, this \\n\"+\n     \"may be due to a slow or bad network connection. Possible fixes:\\n\"+\n     \"</p>\\n\"+\n     \"<ul>\\n\"+\n     \"<li>re-rerun `output_notebook()` to attempt to load from CDN again, or</li>\\n\"+\n     \"<li>use INLINE resources instead, as so:</li>\\n\"+\n     \"</ul>\\n\"+\n     \"<code>\\n\"+\n     \"from bokeh.resources import INLINE\\n\"+\n     \"output_notebook(resources=INLINE)\\n\"+\n     \"</code>\\n\"+\n     \"</div>\"}};\n\n  function display_loaded() {\n    const el = document.getElementById(\"21843\");\n    if (el != null) {\n      el.textContent = \"BokehJS is loading...\";\n    }\n    if (root.Bokeh !== undefined) {\n      if (el != null) {\n        el.textContent = \"BokehJS \" + root.Bokeh.version + \" successfully loaded.\";\n      }\n    } else if (Date.now() < root._bokeh_timeout) {\n      setTimeout(display_loaded, 100)\n    }\n  }\n\n  function run_callbacks() {\n    try {\n      root._bokeh_onload_callbacks.forEach(function(callback) {\n        if (callback != null)\n          callback();\n      });\n    } finally {\n      delete root._bokeh_onload_callbacks\n    }\n    console.debug(\"Bokeh: all callbacks have finished\");\n  }\n\n  function load_libs(css_urls, js_urls, callback) {\n    if (css_urls == null) css_urls = [];\n    if (js_urls == null) js_urls = [];\n\n    root._bokeh_onload_callbacks.push(callback);\n    if (root._bokeh_is_loading > 0) {\n      console.debug(\"Bokeh: BokehJS is being loaded, scheduling callback at\", now());\n      return null;\n    }\n    if (js_urls == null || js_urls.length === 0) {\n      run_callbacks();\n      return null;\n    }\n    console.debug(\"Bokeh: BokehJS not loaded, scheduling load and callback at\", now());\n    root._bokeh_is_loading = css_urls.length + js_urls.length;\n\n    function on_load() {\n      root._bokeh_is_loading--;\n      if (root._bokeh_is_loading === 0) {\n        console.debug(\"Bokeh: all BokehJS libraries/stylesheets loaded\");\n        run_callbacks()\n      }\n    }\n\n    function on_error(url) {\n      console.error(\"failed to load \" + url);\n    }\n\n    for (let i = 0; i < css_urls.length; i++) {\n      const url = css_urls[i];\n      const element = document.createElement(\"link\");\n      element.onload = on_load;\n      element.onerror = on_error.bind(null, url);\n      element.rel = \"stylesheet\";\n      element.type = \"text/css\";\n      element.href = url;\n      console.debug(\"Bokeh: injecting link tag for BokehJS stylesheet: \", url);\n      document.body.appendChild(element);\n    }\n\n    for (let i = 0; i < js_urls.length; i++) {\n      const url = js_urls[i];\n      const element = document.createElement('script');\n      element.onload = on_load;\n      element.onerror = on_error.bind(null, url);\n      element.async = false;\n      element.src = url;\n      console.debug(\"Bokeh: injecting script tag for BokehJS library: \", url);\n      document.head.appendChild(element);\n    }\n  };\n\n  function inject_raw_css(css) {\n    const element = document.createElement(\"style\");\n    element.appendChild(document.createTextNode(css));\n    document.body.appendChild(element);\n  }\n\n  const js_urls = [\"https://cdn.bokeh.org/bokeh/release/bokeh-2.4.3.min.js\", \"https://cdn.bokeh.org/bokeh/release/bokeh-gl-2.4.3.min.js\", \"https://cdn.bokeh.org/bokeh/release/bokeh-widgets-2.4.3.min.js\", \"https://cdn.bokeh.org/bokeh/release/bokeh-tables-2.4.3.min.js\", \"https://cdn.bokeh.org/bokeh/release/bokeh-mathjax-2.4.3.min.js\"];\n  const css_urls = [];\n\n  const inline_js = [    function(Bokeh) {\n      Bokeh.set_log_level(\"info\");\n    },\nfunction(Bokeh) {\n    }\n  ];\n\n  function run_inline_js() {\n    if (root.Bokeh !== undefined || force === true) {\n          for (let i = 0; i < inline_js.length; i++) {\n      inline_js[i].call(root, root.Bokeh);\n    }\nif (force === true) {\n        display_loaded();\n      }} else if (Date.now() < root._bokeh_timeout) {\n      setTimeout(run_inline_js, 100);\n    } else if (!root._bokeh_failed_load) {\n      console.log(\"Bokeh: BokehJS failed to load within specified timeout.\");\n      root._bokeh_failed_load = true;\n    } else if (force !== true) {\n      const cell = $(document.getElementById(\"21843\")).parents('.cell').data().cell;\n      cell.output_area.append_execute_result(NB_LOAD_WARNING)\n    }\n  }\n\n  if (root._bokeh_is_loading === 0) {\n    console.debug(\"Bokeh: BokehJS loaded, going straight to plotting\");\n    run_inline_js();\n  } else {\n    load_libs(css_urls, js_urls, function() {\n      console.debug(\"Bokeh: BokehJS plotting callback run at\", now());\n      run_inline_js();\n    });\n  }\n}(window));",
      "application/vnd.bokehjs_load.v0+json": ""
     },
     "metadata": {},
     "output_type": "display_data"
    },
    {
     "data": {
      "text/html": [
       "\n",
       "  <div class=\"bk-root\" id=\"eb0c00bf-258c-4583-bf01-d40aa6b29be7\" data-root-id=\"21844\"></div>\n"
      ]
     },
     "metadata": {},
     "output_type": "display_data"
    },
    {
     "data": {
      "application/javascript": "(function(root) {\n  function embed_document(root) {\n  const docs_json = {\"b8624492-7ed8-4ee6-9028-f9637c59c6b0\":{\"defs\":[],\"roots\":{\"references\":[{\"attributes\":{\"below\":[{\"id\":\"21855\"}],\"center\":[{\"id\":\"21857\"},{\"id\":\"21861\"}],\"height\":500,\"left\":[{\"id\":\"21858\"}],\"renderers\":[{\"id\":\"21868\"}],\"title\":{\"id\":\"21845\"},\"toolbar\":{\"id\":\"21862\"},\"toolbar_location\":\"above\",\"width\":1000,\"x_range\":{\"id\":\"21847\"},\"x_scale\":{\"id\":\"21851\"},\"y_range\":{\"id\":\"21849\"},\"y_scale\":{\"id\":\"21853\"}},\"id\":\"21844\",\"subtype\":\"Figure\",\"type\":\"Plot\"},{\"attributes\":{},\"id\":\"21853\",\"type\":\"LinearScale\"},{\"attributes\":{},\"id\":\"21859\",\"type\":\"BasicTicker\"},{\"attributes\":{\"axis_label\":\"% Respondents\",\"axis_label_text_font_style\":\"bold\",\"coordinates\":null,\"formatter\":{\"id\":\"22305\"},\"group\":null,\"major_label_policy\":{\"id\":\"22306\"},\"ticker\":{\"id\":\"21859\"}},\"id\":\"21858\",\"type\":\"LinearAxis\"},{\"attributes\":{},\"id\":\"21856\",\"type\":\"CategoricalTicker\"},{\"attributes\":{},\"id\":\"22309\",\"type\":\"AllLabels\"},{\"attributes\":{\"axis_label\":\"Provinces\",\"axis_label_text_font_style\":\"bold\",\"coordinates\":null,\"formatter\":{\"id\":\"22308\"},\"group\":null,\"major_label_orientation\":45,\"major_label_policy\":{\"id\":\"22309\"},\"major_label_text_font_size\":\"10pt\",\"ticker\":{\"id\":\"21856\"}},\"id\":\"21855\",\"type\":\"CategoricalAxis\"},{\"attributes\":{},\"id\":\"22310\",\"type\":\"UnionRenderers\"},{\"attributes\":{\"fill_alpha\":{\"value\":0.2},\"fill_color\":{\"value\":\"#1f77b4\"},\"hatch_alpha\":{\"value\":0.2},\"line_alpha\":{\"value\":0.2},\"line_color\":{\"value\":\"#1f77b4\"},\"top\":{\"field\":\"% with CE Access\"},\"width\":{\"value\":0.5},\"x\":{\"field\":\"prv_name\"}},\"id\":\"21867\",\"type\":\"VBar\"},{\"attributes\":{\"end\":100,\"start\":0},\"id\":\"21849\",\"type\":\"DataRange1d\"},{\"attributes\":{\"axis\":{\"id\":\"21858\"},\"coordinates\":null,\"dimension\":1,\"group\":null,\"ticker\":null},\"id\":\"21861\",\"type\":\"Grid\"},{\"attributes\":{\"coordinates\":null,\"group\":null,\"text\":\"% Respondents with Access to Other Cooling Equipment by Province\",\"text_font_size\":\"18pt\"},\"id\":\"21845\",\"type\":\"Title\"},{\"attributes\":{},\"id\":\"22306\",\"type\":\"AllLabels\"},{\"attributes\":{},\"id\":\"21851\",\"type\":\"CategoricalScale\"},{\"attributes\":{\"data\":{\"% with AC Access\":{\"__ndarray__\":\"kQ7xKgvtNUAivECrpfpCQNajiBkWgURABu5MSCe0NUB7iHXIfFNDQDtbG+5Uf0BATdRxl+TVQkC4m4Z9NJY+QBAEQRAEQTJAa8FN4CzkQkA10Wns6bdAQPL6tWhGyUhAMtRFEXiqO0BzI6MNClY3QE9b5t08f0FAoVq1T0+7QUBrJS2o9bE+QA==\",\"dtype\":\"float64\",\"order\":\"little\",\"shape\":[17]},\"% with CE Access\":{\"__ndarray__\":\"QfMtHB7JV0C2ADIymTFYQCHTpfH4rlVA5F2FEC7dV0DnwURpR9ZXQJORFiNVsVdAdEf2M1UTWEC4uJ2mRAhYQFOxcSALtVdADzSB9akWWECxIJ+j99ZXQEVaTvuoBFhAHunayWGMV0D+sfe7bNVXQLRmALc0u1dAaMkBGl4EWECwYIjG9U1XQA==\",\"dtype\":\"float64\",\"order\":\"little\",\"shape\":[17]},\"% without AC Access\":{\"__ndarray__\":\"jU1aODSCU0AmDuE/UwBPQBqh6uI8uklAycCdCemEU0BmXIB9OV5OQPm4nYa0qFBAyTKCCaYYT0DdT+MF7hhRQFjq+R1/aVRAfAHqqw8YT0BIYJDAw5xQQBNcDR+iw0hAEae/p6wAUkCc32pJUClTQGYgDW5WFlBAgWvHHVwgUEBN7DKKO9JQQA==\",\"dtype\":\"float64\",\"order\":\"little\",\"shape\":[17]},\"% without CE Access\":{\"__ndarray__\":\"VXGMT11IE0DNjdxraHwJQG/1PMkI6xZAWfpKNTNXEUBWMAknQiIQQGpL/2NdchNA0IJ3kAN+DEBdwufUz8YGQIWghxlQSxRAn6xVE4ruDEA2CDbL7B4SQLgnahJpOQhAtgemoYnrFUCqZ78NYZYSQKB1/l8CrBFAJO0JdLU0D0AUyrXcBgwTQA==\",\"dtype\":\"float64\",\"order\":\"little\",\"shape\":[17]},\"AC_Access\":[71959,45420,36288,16311,28375,115910,34524,31252,8786,50116,47924,11247,46941,33004,27913,4573,182898],\"Cooling_Equipment_Access\":[312249,115799,76750,71738,69996,332928,88257,98220,45643,127807,136675,21797,159819,134831,75717,12388,555443],\"No_AC_Access\":[256102,74191,45532,58677,44587,234091,56997,69877,39299,82488,95240,11237,122181,108399,51328,8318,400919],\"No_Cooling_Equipment_Access\":[15821,3812,5070,3258,2961,17079,3264,2909,2442,4797,6493,687,9298,6572,3524,503,28373],\"Unknown_AC\":[130,47,6669,165,449,1297,125,1046,47,39,163,204,549,26,524,4,12036],\"Unknown_CE\":[121,47,6669,157,454,1291,125,1046,47,39,159,204,554,26,524,4,12037],\"index\":[0,1,2,3,4,5,6,7,8,9,10,11,12,13,14,15,16],\"prv_name\":[\"City Of Caloocan\",\"City Of Las Pi\\u00f1as\",\"City Of Makati\",\"City Of Malabon\",\"City Of Mandaluyong\",\"City Of Manila\",\"City Of Marikina\",\"City Of Muntinlupa\",\"City Of Navotas\",\"City Of Para\\u00f1aque\",\"City Of Pasig\",\"City Of San Juan\",\"City Of Taguig\",\"City Of Valenzuela\",\"Pasay City\",\"Pateros\",\"Quezon City\"],\"total_AC\":[328191,119658,88489,75153,73411,351298,91646,102175,48132,132643,143327,22688,169671,141429,79765,12895,595853],\"total_CE\":[328191,119658,88489,75153,73411,351298,91646,102175,48132,132643,143327,22688,169671,141429,79765,12895,595853]},\"selected\":{\"id\":\"22311\"},\"selection_policy\":{\"id\":\"22310\"}},\"id\":\"21863\",\"type\":\"ColumnDataSource\"},{\"attributes\":{},\"id\":\"21862\",\"type\":\"Toolbar\"},{\"attributes\":{\"fill_color\":{\"value\":\"#1f77b4\"},\"line_color\":{\"value\":\"#1f77b4\"},\"top\":{\"field\":\"% with CE Access\"},\"width\":{\"value\":0.5},\"x\":{\"field\":\"prv_name\"}},\"id\":\"21865\",\"type\":\"VBar\"},{\"attributes\":{},\"id\":\"22311\",\"type\":\"Selection\"},{\"attributes\":{},\"id\":\"22305\",\"type\":\"BasicTickFormatter\"},{\"attributes\":{\"fill_alpha\":{\"value\":0.1},\"fill_color\":{\"value\":\"#1f77b4\"},\"hatch_alpha\":{\"value\":0.1},\"line_alpha\":{\"value\":0.1},\"line_color\":{\"value\":\"#1f77b4\"},\"top\":{\"field\":\"% with CE Access\"},\"width\":{\"value\":0.5},\"x\":{\"field\":\"prv_name\"}},\"id\":\"21866\",\"type\":\"VBar\"},{\"attributes\":{},\"id\":\"22308\",\"type\":\"CategoricalTickFormatter\"},{\"attributes\":{\"axis\":{\"id\":\"21855\"},\"coordinates\":null,\"group\":null,\"ticker\":null},\"id\":\"21857\",\"type\":\"Grid\"},{\"attributes\":{\"coordinates\":null,\"data_source\":{\"id\":\"21863\"},\"glyph\":{\"id\":\"21865\"},\"group\":null,\"hover_glyph\":null,\"muted_glyph\":{\"id\":\"21867\"},\"nonselection_glyph\":{\"id\":\"21866\"},\"view\":{\"id\":\"21869\"}},\"id\":\"21868\",\"type\":\"GlyphRenderer\"},{\"attributes\":{\"source\":{\"id\":\"21863\"}},\"id\":\"21869\",\"type\":\"CDSView\"},{\"attributes\":{\"factors\":[\"City Of Caloocan\",\"City Of Las Pi\\u00f1as\",\"City Of Makati\",\"City Of Malabon\",\"City Of Mandaluyong\",\"City Of Manila\",\"City Of Marikina\",\"City Of Muntinlupa\",\"City Of Navotas\",\"City Of Para\\u00f1aque\",\"City Of Pasig\",\"City Of San Juan\",\"City Of Taguig\",\"City Of Valenzuela\",\"Pasay City\",\"Pateros\",\"Quezon City\"]},\"id\":\"21847\",\"type\":\"FactorRange\"}],\"root_ids\":[\"21844\"]},\"title\":\"Bokeh Application\",\"version\":\"2.4.3\"}};\n  const render_items = [{\"docid\":\"b8624492-7ed8-4ee6-9028-f9637c59c6b0\",\"root_ids\":[\"21844\"],\"roots\":{\"21844\":\"eb0c00bf-258c-4583-bf01-d40aa6b29be7\"}}];\n  root.Bokeh.embed.embed_items_notebook(docs_json, render_items);\n  }\n  if (root.Bokeh !== undefined) {\n    embed_document(root);\n  } else {\n    let attempts = 0;\n    const timer = setInterval(function(root) {\n      if (root.Bokeh !== undefined) {\n        clearInterval(timer);\n        embed_document(root);\n      } else {\n        attempts++;\n        if (attempts > 100) {\n          clearInterval(timer);\n          console.log(\"Bokeh: ERROR: Unable to run BokehJS code because BokehJS library is missing\");\n        }\n      }\n    }, 10, root)\n  }\n})(window);",
      "application/vnd.bokehjs_exec.v0+json": ""
     },
     "metadata": {
      "application/vnd.bokehjs_exec.v0+json": {
       "id": "21844"
      }
     },
     "output_type": "display_data"
    }
   ],
   "source": [
    "from bokeh.io import  show\n",
    "from bokeh.plotting import figure\n",
    "from bokeh.palettes import Category10\n",
    "from bokeh.transform import factor_cmap\n",
    "from bokeh.plotting import figure,  show, output_notebook\n",
    "import pandas as pd\n",
    "\n",
    "output_notebook()\n",
    "\n",
    "# Define the provinces and stack categories\n",
    "provinces = df['prv_name'].tolist()\n",
    "stack_categories = ['AC_Access', 'No_AC_Access',\n",
    "       'Unknown_AC']\n",
    "\n",
    "# Define the colors for each stack category\n",
    "colors = Category10[len(stack_categories)]\n",
    "\n",
    "# Create a figure\n",
    "p = figure(x_range=provinces, title=\"% Respondents with Access to Other Cooling Equipment by Province\", tools=\"\",  width=1000, height=500, toolbar_location='above')\n",
    "\n",
    "# Stack the bars\n",
    "p.vbar(x='prv_name', top='% with CE Access', width=0.5,  source=df)\n",
    "\n",
    "# Configure legend\n",
    "#p.legend.location = \"top_right\"\n",
    "\n",
    "# Add labels\n",
    "p.xaxis.axis_label = \"Provinces\"\n",
    "p.yaxis.axis_label = \"% Respondents\"\n",
    "\n",
    "p.xaxis.major_label_orientation = 45\n",
    "# Set font style for x-axis labels\n",
    "p.xaxis.major_label_text_font_size = \"10pt\"\n",
    "p.xaxis.axis_label_text_font_style = \"normal\"\n",
    "\n",
    "p.yaxis.axis_label_text_font_style = \"normal\"\n",
    "\n",
    "p.yaxis.axis_label_text_font_style = \"bold\"\n",
    "p.xaxis.axis_label_text_font_style = \"bold\"\n",
    "\n",
    "p.title.text_font_size = \"18pt\"\n",
    "\n",
    "\n",
    "# Set y-axis range from 0 to 100\n",
    "p.y_range.start = 0\n",
    "p.y_range.end = 100\n",
    "\n",
    "# Show the plot\n",
    "show(p)\n"
   ]
  }
 ],
 "metadata": {
  "kernelspec": {
   "display_name": "heatwaves",
   "language": "python",
   "name": "python3"
  },
  "language_info": {
   "codemirror_mode": {
    "name": "ipython",
    "version": 3
   },
   "file_extension": ".py",
   "mimetype": "text/x-python",
   "name": "python",
   "nbconvert_exporter": "python",
   "pygments_lexer": "ipython3",
   "version": "3.10.11"
  }
 },
 "nbformat": 4,
 "nbformat_minor": 2
}
